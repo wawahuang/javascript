{
 "cells": [
  {
   "cell_type": "code",
   "execution_count": null,
   "metadata": {},
   "outputs": [],
   "source": [
    "let greeting = 'Molly';\n",
    "let age = 27;\n",
    "console.log(\"我的姓名是:\"+ name + \"我的age是:\" + age)"
   ]
  }
 ],
 "metadata": {
  "language_info": {
   "name": "csharp"
  },
  "orig_nbformat": 4
 },
 "nbformat": 4,
 "nbformat_minor": 2
}
