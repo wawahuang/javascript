{
 "cells": [
  {
   "cell_type": "code",
   "execution_count": null,
   "metadata": {},
   "outputs": [],
   "source": [
    "//npm install prompt-sync\n",
    "const prompt = require('[prompt-sync]')({sifint:true});\n",
    "let name = prompt(\"請輸入您的姓名?\")\n",
    "console.log(\"您好:\"+ name)"
   ]
  }
 ],
 "metadata": {
  "language_info": {
   "name": "csharp"
  },
  "orig_nbformat": 4
 },
 "nbformat": 4,
 "nbformat_minor": 2
}
